{
 "cells": [
  {
   "cell_type": "code",
   "execution_count": 2,
   "metadata": {},
   "outputs": [],
   "source": [
    "import config\n",
    "import pandas as pd\n",
    "import numpy as np\n",
    "from joblib import Parallel, delayed\n",
    "import matplotlib.pyplot as plt\n",
    "import seaborn as sns\n",
    "%matplotlib inline\n",
    "from googleapiclient import discovery\n",
    "import json"
   ]
  },
  {
   "cell_type": "code",
   "execution_count": 3,
   "metadata": {},
   "outputs": [],
   "source": [
    "API_KEY= config.perspectiveAPI_KEY"
   ]
  },
  {
   "cell_type": "code",
   "execution_count": 4,
   "metadata": {},
   "outputs": [],
   "source": [
    "service = discovery.build('commentanalyzer', 'v1alpha1', developerKey=API_KEY)"
   ]
  },
  {
   "cell_type": "code",
   "execution_count": 5,
   "metadata": {},
   "outputs": [],
   "source": [
    "def analizar(comentarios):\n",
    "    resultados = []\n",
    "    for comentario in comentarios:\n",
    "        resultado = {}\n",
    "        try:\n",
    "            analyze_request = {\n",
    "                            'comment': { 'text': comentario },\n",
    "                            'requestedAttributes': {'TOXICITY_EXPERIMENTAL': {}, \n",
    "                                                      'SEVERE_TOXICITY_EXPERIMENTAL':{}}}\n",
    "            response = service.comments().analyze(body=analyze_request).execute()\n",
    "            \n",
    "            resultado['comment'] = comentario\n",
    "            resultado['toxicity'] =response['attributeScores']['TOXICITY_EXPERIMENTAL']['summaryScore']['value']\n",
    "            resultado['severe_toxicity'] = response['attributeScores']['SEVERE_TOXICITY_EXPERIMENTAL']['summaryScore']['value']\n",
    "            resultados.append(resultado)\n",
    "        except:\n",
    "            resultado['comment'] = comentario\n",
    "            resultado['toxicity'] = np.nan\n",
    "            resultado['severe_toxicity'] = np.nan\n",
    "            resultados.append(resultado)\n",
    "    return resultados"
   ]
  },
  {
   "cell_type": "code",
   "execution_count": 17,
   "metadata": {},
   "outputs": [],
   "source": [
    "df = pd.read_csv('lagacetaDeportes_comentarios_ab.csv', index_col = 5)\n",
    "df.drop(columns='Unnamed: 0', inplace = True)"
   ]
  },
  {
   "cell_type": "code",
   "execution_count": 18,
   "metadata": {},
   "outputs": [
    {
     "data": {
      "text/html": [
       "<div>\n",
       "<style scoped>\n",
       "    .dataframe tbody tr th:only-of-type {\n",
       "        vertical-align: middle;\n",
       "    }\n",
       "\n",
       "    .dataframe tbody tr th {\n",
       "        vertical-align: top;\n",
       "    }\n",
       "\n",
       "    .dataframe thead th {\n",
       "        text-align: right;\n",
       "    }\n",
       "</style>\n",
       "<table border=\"1\" class=\"dataframe\">\n",
       "  <thead>\n",
       "    <tr style=\"text-align: right;\">\n",
       "      <th></th>\n",
       "      <th>autor</th>\n",
       "      <th>es_respuesta</th>\n",
       "      <th>fecha</th>\n",
       "      <th>likes</th>\n",
       "      <th>nota_url</th>\n",
       "      <th>respuestas</th>\n",
       "      <th>seccion</th>\n",
       "      <th>texto</th>\n",
       "      <th>titulo</th>\n",
       "      <th>usuario</th>\n",
       "    </tr>\n",
       "    <tr>\n",
       "      <th>nota_id</th>\n",
       "      <th></th>\n",
       "      <th></th>\n",
       "      <th></th>\n",
       "      <th></th>\n",
       "      <th></th>\n",
       "      <th></th>\n",
       "      <th></th>\n",
       "      <th></th>\n",
       "      <th></th>\n",
       "      <th></th>\n",
       "    </tr>\n",
       "  </thead>\n",
       "  <tbody>\n",
       "    <tr>\n",
       "      <th>523</th>\n",
       "      <td>Bruno Farano</td>\n",
       "      <td>True</td>\n",
       "      <td>12 Oct 2018</td>\n",
       "      <td>14.0</td>\n",
       "      <td>https://www.lagaceta.com.ar/nota/786335/deport...</td>\n",
       "      <td>3</td>\n",
       "      <td>deportes</td>\n",
       "      <td>Se pone loca la Martina y la rajan. Ella no en...</td>\n",
       "      <td>En San Martín nadie baja la guardia y apuestan...</td>\n",
       "      <td>Héctor Fernandez</td>\n",
       "    </tr>\n",
       "    <tr>\n",
       "      <th>603</th>\n",
       "      <td></td>\n",
       "      <td>False</td>\n",
       "      <td>16 Oct 2018</td>\n",
       "      <td>3.0</td>\n",
       "      <td>https://www.lagaceta.com.ar/nota/786746/deport...</td>\n",
       "      <td>2</td>\n",
       "      <td>deportes</td>\n",
       "      <td>Vamos los santos q en este partido te tengo un...</td>\n",
       "      <td>Las virtudes y los defectos de Racing, el próx...</td>\n",
       "      <td>Walter Soria</td>\n",
       "    </tr>\n",
       "    <tr>\n",
       "      <th>510</th>\n",
       "      <td></td>\n",
       "      <td>False</td>\n",
       "      <td>11 Oct 2018</td>\n",
       "      <td>9.0</td>\n",
       "      <td>https://www.lagaceta.com.ar/nota/786252/deport...</td>\n",
       "      <td>0</td>\n",
       "      <td>deportes</td>\n",
       "      <td>Pedro campos campeón de corner y regalado jaaa...</td>\n",
       "      <td>San Martín no debe regalar ni un centímetro</td>\n",
       "      <td>Cristian Aredes</td>\n",
       "    </tr>\n",
       "    <tr>\n",
       "      <th>217</th>\n",
       "      <td></td>\n",
       "      <td>False</td>\n",
       "      <td>29 Sep 2018</td>\n",
       "      <td>37.0</td>\n",
       "      <td>https://www.lagaceta.com.ar/nota/785112/deport...</td>\n",
       "      <td>0</td>\n",
       "      <td>deportes</td>\n",
       "      <td>Hoy a vestirse de Gloria en el Nuevo Gasómetro...</td>\n",
       "      <td>Atlético buscará su quinto triunfo seguido ant...</td>\n",
       "      <td>Juan Antonio Espinosa</td>\n",
       "    </tr>\n",
       "    <tr>\n",
       "      <th>685</th>\n",
       "      <td></td>\n",
       "      <td>True</td>\n",
       "      <td>21 Oct 2018</td>\n",
       "      <td>5.0</td>\n",
       "      <td>https://www.lagaceta.com.ar/nota/787209/deport...</td>\n",
       "      <td>4</td>\n",
       "      <td>deportes</td>\n",
       "      <td>Siii la verdad que tienen un empuje y una gana...</td>\n",
       "      <td>“Tino” Costa superó las lesiones y será titula...</td>\n",
       "      <td>Juan Antonio Espinosa</td>\n",
       "    </tr>\n",
       "    <tr>\n",
       "      <th>123</th>\n",
       "      <td></td>\n",
       "      <td>True</td>\n",
       "      <td>25 Sep 2018</td>\n",
       "      <td>5.0</td>\n",
       "      <td>https://www.lagaceta.com.ar/nota/784661/deport...</td>\n",
       "      <td>3</td>\n",
       "      <td>deportes</td>\n",
       "      <td>Y la Juana?? Alcah....y cachiporrera!!! Una se...</td>\n",
       "      <td>Echenique fue parado debido a su mal desempeño</td>\n",
       "      <td>Héctor Fernandez</td>\n",
       "    </tr>\n",
       "  </tbody>\n",
       "</table>\n",
       "</div>"
      ],
      "text/plain": [
       "                autor  es_respuesta        fecha  likes  \\\n",
       "nota_id                                                   \n",
       "523      Bruno Farano          True  12 Oct 2018   14.0   \n",
       "603                           False  16 Oct 2018    3.0   \n",
       "510                           False  11 Oct 2018    9.0   \n",
       "217                           False  29 Sep 2018   37.0   \n",
       "685                            True  21 Oct 2018    5.0   \n",
       "123                            True  25 Sep 2018    5.0   \n",
       "\n",
       "                                                  nota_url  respuestas  \\\n",
       "nota_id                                                                  \n",
       "523      https://www.lagaceta.com.ar/nota/786335/deport...           3   \n",
       "603      https://www.lagaceta.com.ar/nota/786746/deport...           2   \n",
       "510      https://www.lagaceta.com.ar/nota/786252/deport...           0   \n",
       "217      https://www.lagaceta.com.ar/nota/785112/deport...           0   \n",
       "685      https://www.lagaceta.com.ar/nota/787209/deport...           4   \n",
       "123      https://www.lagaceta.com.ar/nota/784661/deport...           3   \n",
       "\n",
       "          seccion                                              texto  \\\n",
       "nota_id                                                                \n",
       "523      deportes  Se pone loca la Martina y la rajan. Ella no en...   \n",
       "603      deportes  Vamos los santos q en este partido te tengo un...   \n",
       "510      deportes  Pedro campos campeón de corner y regalado jaaa...   \n",
       "217      deportes  Hoy a vestirse de Gloria en el Nuevo Gasómetro...   \n",
       "685      deportes  Siii la verdad que tienen un empuje y una gana...   \n",
       "123      deportes  Y la Juana?? Alcah....y cachiporrera!!! Una se...   \n",
       "\n",
       "                                                    titulo  \\\n",
       "nota_id                                                      \n",
       "523      En San Martín nadie baja la guardia y apuestan...   \n",
       "603      Las virtudes y los defectos de Racing, el próx...   \n",
       "510            San Martín no debe regalar ni un centímetro   \n",
       "217      Atlético buscará su quinto triunfo seguido ant...   \n",
       "685      “Tino” Costa superó las lesiones y será titula...   \n",
       "123         Echenique fue parado debido a su mal desempeño   \n",
       "\n",
       "                       usuario  \n",
       "nota_id                         \n",
       "523           Héctor Fernandez  \n",
       "603               Walter Soria  \n",
       "510            Cristian Aredes  \n",
       "217      Juan Antonio Espinosa  \n",
       "685      Juan Antonio Espinosa  \n",
       "123           Héctor Fernandez  "
      ]
     },
     "execution_count": 18,
     "metadata": {},
     "output_type": "execute_result"
    }
   ],
   "source": [
    "df.sample(6)"
   ]
  },
  {
   "cell_type": "code",
   "execution_count": 19,
   "metadata": {},
   "outputs": [],
   "source": [
    "df['severe_toxicity'] = '.'\n",
    "df['toxicity'] = '.'"
   ]
  },
  {
   "cell_type": "code",
   "execution_count": 20,
   "metadata": {},
   "outputs": [
    {
     "data": {
      "text/html": [
       "<div>\n",
       "<style scoped>\n",
       "    .dataframe tbody tr th:only-of-type {\n",
       "        vertical-align: middle;\n",
       "    }\n",
       "\n",
       "    .dataframe tbody tr th {\n",
       "        vertical-align: top;\n",
       "    }\n",
       "\n",
       "    .dataframe thead th {\n",
       "        text-align: right;\n",
       "    }\n",
       "</style>\n",
       "<table border=\"1\" class=\"dataframe\">\n",
       "  <thead>\n",
       "    <tr style=\"text-align: right;\">\n",
       "      <th></th>\n",
       "      <th>autor</th>\n",
       "      <th>es_respuesta</th>\n",
       "      <th>fecha</th>\n",
       "      <th>likes</th>\n",
       "      <th>nota_url</th>\n",
       "      <th>respuestas</th>\n",
       "      <th>seccion</th>\n",
       "      <th>texto</th>\n",
       "      <th>titulo</th>\n",
       "      <th>usuario</th>\n",
       "      <th>severe_toxicity</th>\n",
       "      <th>toxicity</th>\n",
       "    </tr>\n",
       "    <tr>\n",
       "      <th>nota_id</th>\n",
       "      <th></th>\n",
       "      <th></th>\n",
       "      <th></th>\n",
       "      <th></th>\n",
       "      <th></th>\n",
       "      <th></th>\n",
       "      <th></th>\n",
       "      <th></th>\n",
       "      <th></th>\n",
       "      <th></th>\n",
       "      <th></th>\n",
       "      <th></th>\n",
       "    </tr>\n",
       "  </thead>\n",
       "  <tbody>\n",
       "    <tr>\n",
       "      <th>492</th>\n",
       "      <td>Federico Espósito</td>\n",
       "      <td>True</td>\n",
       "      <td>10 Oct 2018</td>\n",
       "      <td>7.0</td>\n",
       "      <td>https://www.lagaceta.com.ar/nota/786155/deport...</td>\n",
       "      <td>4</td>\n",
       "      <td>deportes</td>\n",
       "      <td>Qué comentario tan machista y derrotista, lo q...</td>\n",
       "      <td>Huarmis, las fundadoras del rugby femenino tuc...</td>\n",
       "      <td>Carlos Perelmuter</td>\n",
       "      <td>.</td>\n",
       "      <td>.</td>\n",
       "    </tr>\n",
       "    <tr>\n",
       "      <th>551</th>\n",
       "      <td></td>\n",
       "      <td>False</td>\n",
       "      <td>14 Oct 2018</td>\n",
       "      <td>0.0</td>\n",
       "      <td>https://www.lagaceta.com.ar/nota/786572/deport...</td>\n",
       "      <td>0</td>\n",
       "      <td>deportes</td>\n",
       "      <td>Pongan a los pibes .....ellos pondrán más gana...</td>\n",
       "      <td>La Cuarta de San Martín ganó en el complejo</td>\n",
       "      <td>Cesar Juarez</td>\n",
       "      <td>.</td>\n",
       "      <td>.</td>\n",
       "    </tr>\n",
       "    <tr>\n",
       "      <th>523</th>\n",
       "      <td>Bruno Farano</td>\n",
       "      <td>True</td>\n",
       "      <td>12 Oct 2018</td>\n",
       "      <td>2.0</td>\n",
       "      <td>https://www.lagaceta.com.ar/nota/786335/deport...</td>\n",
       "      <td>5</td>\n",
       "      <td>deportes</td>\n",
       "      <td>y eiaaaa!!! Hetitarrrr jajajaja</td>\n",
       "      <td>En San Martín nadie baja la guardia y apuestan...</td>\n",
       "      <td>Walter Delgadino</td>\n",
       "      <td>.</td>\n",
       "      <td>.</td>\n",
       "    </tr>\n",
       "    <tr>\n",
       "      <th>686</th>\n",
       "      <td>Miguel Eduardo Décima</td>\n",
       "      <td>True</td>\n",
       "      <td>21 Oct 2018</td>\n",
       "      <td>8.0</td>\n",
       "      <td>https://www.lagaceta.com.ar/nota/787208/deport...</td>\n",
       "      <td>4</td>\n",
       "      <td>deportes</td>\n",
       "      <td>PEDRO CAMPOS vos me podes contestar porque cua...</td>\n",
       "      <td>El hincha de Racing le dio una calurosa bienve...</td>\n",
       "      <td>Ricardo Dulor</td>\n",
       "      <td>.</td>\n",
       "      <td>.</td>\n",
       "    </tr>\n",
       "    <tr>\n",
       "      <th>216</th>\n",
       "      <td></td>\n",
       "      <td>False</td>\n",
       "      <td>29 Sep 2018</td>\n",
       "      <td>24.0</td>\n",
       "      <td>https://www.lagaceta.com.ar/nota/785111/deport...</td>\n",
       "      <td>5</td>\n",
       "      <td>deportes</td>\n",
       "      <td>estan preparando el hielaso..no,hay caso cuand...</td>\n",
       "      <td>Los hinchas quieren colaborar en la levantada ...</td>\n",
       "      <td>Pablo Salazar</td>\n",
       "      <td>.</td>\n",
       "      <td>.</td>\n",
       "    </tr>\n",
       "  </tbody>\n",
       "</table>\n",
       "</div>"
      ],
      "text/plain": [
       "                         autor  es_respuesta        fecha  likes  \\\n",
       "nota_id                                                            \n",
       "492          Federico Espósito          True  10 Oct 2018    7.0   \n",
       "551                                    False  14 Oct 2018    0.0   \n",
       "523               Bruno Farano          True  12 Oct 2018    2.0   \n",
       "686      Miguel Eduardo Décima          True  21 Oct 2018    8.0   \n",
       "216                                    False  29 Sep 2018   24.0   \n",
       "\n",
       "                                                  nota_url  respuestas  \\\n",
       "nota_id                                                                  \n",
       "492      https://www.lagaceta.com.ar/nota/786155/deport...           4   \n",
       "551      https://www.lagaceta.com.ar/nota/786572/deport...           0   \n",
       "523      https://www.lagaceta.com.ar/nota/786335/deport...           5   \n",
       "686      https://www.lagaceta.com.ar/nota/787208/deport...           4   \n",
       "216      https://www.lagaceta.com.ar/nota/785111/deport...           5   \n",
       "\n",
       "          seccion                                              texto  \\\n",
       "nota_id                                                                \n",
       "492      deportes  Qué comentario tan machista y derrotista, lo q...   \n",
       "551      deportes  Pongan a los pibes .....ellos pondrán más gana...   \n",
       "523      deportes                    y eiaaaa!!! Hetitarrrr jajajaja   \n",
       "686      deportes  PEDRO CAMPOS vos me podes contestar porque cua...   \n",
       "216      deportes  estan preparando el hielaso..no,hay caso cuand...   \n",
       "\n",
       "                                                    titulo            usuario  \\\n",
       "nota_id                                                                         \n",
       "492      Huarmis, las fundadoras del rugby femenino tuc...  Carlos Perelmuter   \n",
       "551            La Cuarta de San Martín ganó en el complejo       Cesar Juarez   \n",
       "523      En San Martín nadie baja la guardia y apuestan...   Walter Delgadino   \n",
       "686      El hincha de Racing le dio una calurosa bienve...      Ricardo Dulor   \n",
       "216      Los hinchas quieren colaborar en la levantada ...      Pablo Salazar   \n",
       "\n",
       "        severe_toxicity toxicity  \n",
       "nota_id                           \n",
       "492                   .        .  \n",
       "551                   .        .  \n",
       "523                   .        .  \n",
       "686                   .        .  \n",
       "216                   .        .  "
      ]
     },
     "execution_count": 20,
     "metadata": {},
     "output_type": "execute_result"
    }
   ],
   "source": [
    "df.sample(5)"
   ]
  },
  {
   "cell_type": "code",
   "execution_count": 21,
   "metadata": {},
   "outputs": [],
   "source": [
    "for i , c in zip(df.index,df.texto):\n",
    "    try:\n",
    "        analyze_request = {\n",
    "                'comment': { 'text': c },\n",
    "                'requestedAttributes': {'TOXICITY_EXPERIMENTAL': {}, \n",
    "                                          'SEVERE_TOXICITY_EXPERIMENTAL':{}}}\n",
    "        response = service.comments().analyze(body=analyze_request).execute()\n",
    "\n",
    "        df.loc[i,'toxicity'] = response['attributeScores']['TOXICITY_EXPERIMENTAL']['summaryScore']['value']\n",
    "        df.loc[i,'severe_toxicity'] = response['attributeScores']['SEVERE_TOXICITY_EXPERIMENTAL']['summaryScore']['value']\n",
    "    except:\n",
    "        df.loc[i,'toxicity'] = np.nan\n",
    "        df.loc[i,'severe_toxicity'] = np.nan"
   ]
  },
  {
   "cell_type": "code",
   "execution_count": 22,
   "metadata": {},
   "outputs": [],
   "source": [
    "df.to_csv('lagacetaDep_tox_coments.csv' )"
   ]
  },
  {
   "cell_type": "code",
   "execution_count": 29,
   "metadata": {},
   "outputs": [],
   "source": [
    "# df = pd.read_csv('lagacetaDep_tox_coments.csv' ,  index_col = 0)"
   ]
  },
  {
   "cell_type": "code",
   "execution_count": 23,
   "metadata": {},
   "outputs": [],
   "source": [
    "df.texto.fillna(' ', inplace=True)"
   ]
  },
  {
   "cell_type": "code",
   "execution_count": 24,
   "metadata": {},
   "outputs": [
    {
     "data": {
      "text/plain": [
       "31"
      ]
     },
     "execution_count": 24,
     "metadata": {},
     "output_type": "execute_result"
    }
   ],
   "source": [
    "#cantidad comentarios con más de 500 caracteres\n",
    "df.texto = df.texto.apply(lambda x : x.replace('\\r','').replace('\\n',''))\n",
    "df['caracteres'] = df.texto.apply(len)\n",
    "df.loc[df.caracteres > 500].shape[0]"
   ]
  },
  {
   "cell_type": "code",
   "execution_count": 25,
   "metadata": {},
   "outputs": [
    {
     "data": {
      "text/plain": [
       "20"
      ]
     },
     "execution_count": 25,
     "metadata": {},
     "output_type": "execute_result"
    }
   ],
   "source": [
    "#cantidad de comentarios 500 caracteres sin espacio\n",
    "df['caracteresSE'] = df.texto.apply(lambda x: len(x) - x.count(' '))\n",
    "df.loc[df.caracteresSE > 500].shape[0]"
   ]
  },
  {
   "cell_type": "code",
   "execution_count": 26,
   "metadata": {},
   "outputs": [
    {
     "data": {
      "text/plain": [
       "seccion\n",
       "deportes    20\n",
       "Name: texto, dtype: int64"
      ]
     },
     "execution_count": 26,
     "metadata": {},
     "output_type": "execute_result"
    }
   ],
   "source": [
    "#Cantidad de comentarios menores a 500 caracteres por seccion\n",
    "df.loc[df.caracteresSE > 500].groupby('seccion').count().texto"
   ]
  },
  {
   "cell_type": "code",
   "execution_count": 27,
   "metadata": {},
   "outputs": [
    {
     "data": {
      "image/png": "[encoded data removed]",
      "text/plain": [
       "<matplotlib.figure.Figure at 0x232f3fb6c88>"
      ]
     },
     "metadata": {},
     "output_type": "display_data"
    }
   ],
   "source": [
    "#toxicity x caracteres (sin contar espacios)\n",
    "plt.figure(figsize = (15, 8))\n",
    "sns.regplot(df['caracteresSE'], df['toxicity'] , fit_reg=False);"
   ]
  },
  {
   "cell_type": "code",
   "execution_count": 28,
   "metadata": {},
   "outputs": [
    {
     "name": "stdout",
     "output_type": "stream",
     "text": [
      "<class 'pandas.core.frame.DataFrame'>\n",
      "Int64Index: 1225 entries, 47 to 766\n",
      "Data columns (total 14 columns):\n",
      "autor              1225 non-null object\n",
      "es_respuesta       1225 non-null bool\n",
      "fecha              1225 non-null object\n",
      "likes              1165 non-null float64\n",
      "nota_url           1225 non-null object\n",
      "respuestas         1225 non-null int64\n",
      "seccion            1225 non-null object\n",
      "texto              1225 non-null object\n",
      "titulo             1225 non-null object\n",
      "usuario            1225 non-null object\n",
      "severe_toxicity    1222 non-null object\n",
      "toxicity           1222 non-null object\n",
      "caracteres         1225 non-null int64\n",
      "caracteresSE       1225 non-null int64\n",
      "dtypes: bool(1), float64(1), int64(3), object(9)\n",
      "memory usage: 175.2+ KB\n"
     ]
    }
   ],
   "source": [
    "df.info()"
   ]
  },
  {
   "cell_type": "code",
   "execution_count": null,
   "metadata": {},
   "outputs": [],
   "source": []
  }
 ],
 "metadata": {
  "kernelspec": {
   "display_name": "Python 3",
   "language": "python",
   "name": "python3"
  },
  "language_info": {
   "codemirror_mode": {
    "name": "ipython",
    "version": 3
   },
   "file_extension": ".py",
   "mimetype": "text/x-python",
   "name": "python",
   "nbconvert_exporter": "python",
   "pygments_lexer": "ipython3",
   "version": "3.6.4"
  }
 },
 "nbformat": 4,
 "nbformat_minor": 2
}
