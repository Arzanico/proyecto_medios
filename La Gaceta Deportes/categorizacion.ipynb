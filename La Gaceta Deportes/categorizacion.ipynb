{
 "cells": [
  {
   "cell_type": "code",
   "execution_count": 11,
   "metadata": {},
   "outputs": [],
   "source": [
    "import pandas as pd\n",
    "import glosarios\n",
    "import numpy as np\n",
    "import seaborn as sns\n",
    "import matplotlib.pyplot as plt"
   ]
  },
  {
   "cell_type": "code",
   "execution_count": 12,
   "metadata": {},
   "outputs": [],
   "source": [
    "misoginos = list(pd.read_excel('Biblioteca.xlsx', sheet_name = 0, header = None).loc[:,0])\n",
    "racistas = list(pd.read_excel('Biblioteca.xlsx', sheet_name = 1, header = None).loc[:,0])\n",
    "ideologicos = list(pd.read_excel('Biblioteca.xlsx', sheet_name = 2, header = None).loc[:,0])\n",
    "violentos = list(pd.read_excel('Biblioteca.xlsx', sheet_name = 3, header = None).loc[:,0])\n",
    "homofobicos= list(pd.read_excel('Biblioteca.xlsx', sheet_name = 4, header = None).loc[:,0])\n",
    "xenofobos = list(pd.read_excel('Biblioteca.xlsx', sheet_name = 5, header = None).loc[:,0])\n",
    "periodistas = list(pd.read_excel('Biblioteca.xlsx', sheet_name = 6, header = None).loc[:,0])"
   ]
  },
  {
   "cell_type": "code",
   "execution_count": 13,
   "metadata": {},
   "outputs": [],
   "source": [
    "misoginos = [x.lower() for x in misoginos]\n",
    "ideologicos = [x.lower() for x in ideologicos]\n",
    "homofobicos = [x.lower() for x in homofobicos]\n",
    "racistas = [x.lower() for x in racistas]\n",
    "violentos = [x.lower() for x in violentos]\n",
    "xenofobos = [x.lower() for x in xenofobos]\n",
    "periodistas = [x.lower() for x in periodistas]"
   ]
  },
  {
   "cell_type": "code",
   "execution_count": 14,
   "metadata": {},
   "outputs": [],
   "source": [
    "df = pd.read_csv('lagacetaDeportes_comentarios_ab.csv', index_col = 0)"
   ]
  },
  {
   "cell_type": "code",
   "execution_count": 17,
   "metadata": {},
   "outputs": [],
   "source": [
    "for i in df.index:\n",
    "    try:\n",
    "        texto = df.loc[i,'texto']\n",
    "        df.loc[i,'texto'] = texto.lower()\n",
    "    except:\n",
    "        continue"
   ]
  },
  {
   "cell_type": "code",
   "execution_count": 18,
   "metadata": {},
   "outputs": [],
   "source": [
    "df['glos_fill'] = 'No hay coincidencia'"
   ]
  },
  {
   "cell_type": "code",
   "execution_count": 19,
   "metadata": {},
   "outputs": [
    {
     "name": "stdout",
     "output_type": "stream",
     "text": [
      "nan\n"
     ]
    }
   ],
   "source": [
    "fill_coment = []\n",
    "\n",
    "for c, i in zip(df.texto.values,df.index.values):\n",
    "    try:\n",
    "        \n",
    "        palabra = c.split()\n",
    "        palabra = [x.lower() for x in palabra]\n",
    "#         print(palabra)\n",
    "        \n",
    "        \n",
    "        for p in palabra:\n",
    "            \n",
    "            if p in misoginos:\n",
    "                df.loc[i,'glos_fill'] = 'misogino' \n",
    "            elif p in ideologicos:\n",
    "                df.loc[i,'glos_fill'] = 'ideologico'\n",
    "            elif p in homofobicos:\n",
    "                df.loc[i,'glos_fill'] = 'homofobico'\n",
    "            elif p in racistas:\n",
    "                df.loc[i,'glos_fill'] = 'racista'\n",
    "            elif p in violentos:\n",
    "                df.loc[i,'glos_fill'] = 'violento'\n",
    "            elif p in xenofobos:\n",
    "                df.loc[i,'glos_fill'] = 'xenofobo'\n",
    "    except:\n",
    "        print(c)\n",
    "        continue"
   ]
  },
  {
   "cell_type": "code",
   "execution_count": 20,
   "metadata": {},
   "outputs": [],
   "source": [
    "df.loc[df.glos_fill == 'misogino',:].to_csv('df_gaceta_dep_misogino.csv')\n",
    "df.loc[df.glos_fill == 'ideologico',:].to_csv('df_gaceta_dep_ideologico.csv')\n",
    "df.loc[df.glos_fill == 'homofobico',:].to_csv('df_gaceta_dep_homofobico.csv')\n",
    "df.loc[df.glos_fill == 'racista',:].to_csv('df_gaceta_dep_racista.csv')\n",
    "df.loc[df.glos_fill == 'violento',:].to_csv('df_gaceta_dep_violento.csv')\n",
    "df.loc[df.glos_fill == 'xenofobo',:].to_csv('df_gaceta_dep_xenofobo.csv')\n",
    "df.loc[df.glos_fill == 'No hay coincidencia',:].to_csv('df_clarin_sCoincidencia.csv')\n",
    "df.loc[df.texto == 'este comentario ha sido eliminado',:].to_csv('df_gaceta_dep_eliminado.csv')\n",
    "df.loc[df.texto == 'este comentario está pendiente de moderación',:].to_csv('df_gaceta_dep_moderacion.csv')"
   ]
  },
  {
   "cell_type": "code",
   "execution_count": null,
   "metadata": {},
   "outputs": [],
   "source": []
  }
 ],
 "metadata": {
  "kernelspec": {
   "display_name": "Python 3",
   "language": "python",
   "name": "python3"
  },
  "language_info": {
   "codemirror_mode": {
    "name": "ipython",
    "version": 3
   },
   "file_extension": ".py",
   "mimetype": "text/x-python",
   "name": "python",
   "nbconvert_exporter": "python",
   "pygments_lexer": "ipython3",
   "version": "3.6.4"
  }
 },
 "nbformat": 4,
 "nbformat_minor": 2
}
