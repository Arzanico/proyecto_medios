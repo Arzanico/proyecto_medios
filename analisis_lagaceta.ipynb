{
 "cells": [
  {
   "cell_type": "code",
   "execution_count": 1,
   "metadata": {},
   "outputs": [],
   "source": [
    "import pandas as pd\n",
    "import glosarios\n",
    "import numpy as np\n",
    "import seaborn as sns\n",
    "import matplotlib.pyplot as plt"
   ]
  },
  {
   "cell_type": "code",
   "execution_count": 2,
   "metadata": {},
   "outputs": [],
   "source": [
    "df_coments = pd.read_csv('comentarios_la_gaceta.csv', index_col = 0)\n",
    "df_notas = pd.read_csv('lagaceta_notas.csv', index_col = 0)"
   ]
  },
  {
   "cell_type": "code",
   "execution_count": 3,
   "metadata": {},
   "outputs": [
    {
     "data": {
      "text/plain": [
       "Index(['es_respuesta', 'fecha', 'likes', 'nota_id', 'nota_url', 'respuestas',\n",
       "       'texto', 'usuario', 'seccion', 'titulo', 'url'],\n",
       "      dtype='object')"
      ]
     },
     "execution_count": 3,
     "metadata": {},
     "output_type": "execute_result"
    }
   ],
   "source": [
    "df_coments.columns"
   ]
  },
  {
   "cell_type": "code",
   "execution_count": 4,
   "metadata": {},
   "outputs": [
    {
     "data": {
      "text/plain": [
       "Index(['nota_id', 'abierta_comentarios', 'autor', 'cuerpo', 'fecha', 'seccion',\n",
       "       'titulo', 'url'],\n",
       "      dtype='object')"
      ]
     },
     "execution_count": 4,
     "metadata": {},
     "output_type": "execute_result"
    }
   ],
   "source": [
    "df_notas.columns"
   ]
  },
  {
   "cell_type": "code",
   "execution_count": 5,
   "metadata": {},
   "outputs": [
    {
     "data": {
      "text/plain": [
       "seccion\n",
       "economia        130\n",
       "espectaculos     40\n",
       "mundo            75\n",
       "politica        154\n",
       "sociedad        151\n",
       "Name: cuerpo, dtype: int64"
      ]
     },
     "execution_count": 5,
     "metadata": {},
     "output_type": "execute_result"
    }
   ],
   "source": [
    "#Cantidad de notas por seccion\n",
    "df_notas.groupby('seccion').count().cuerpo"
   ]
  },
  {
   "cell_type": "code",
   "execution_count": 6,
   "metadata": {},
   "outputs": [
    {
     "data": {
      "text/plain": [
       "Text(0,0.5,'Cantidad de Notas')"
      ]
     },
     "execution_count": 6,
     "metadata": {},
     "output_type": "execute_result"
    },
    {
     "data": {
      "image/png": "[encoded data removed]",
      "text/plain": [
       "<matplotlib.figure.Figure at 0x28a2258b908>"
      ]
     },
     "metadata": {},
     "output_type": "display_data"
    }
   ],
   "source": [
    "f, ax3 = plt.subplots(1, figsize=(7, 5), sharex=False)\n",
    "sns.barplot(x=df_notas.groupby('seccion').count().index, y=df_notas.groupby('seccion').count().cuerpo, palette=\"deep\", ax=ax3)\n",
    "# ax3.axhline(0, color=\"k\", clip_on=False)\n",
    "ax3.set_ylabel(\"Cantidad de Notas\")"
   ]
  },
  {
   "cell_type": "code",
   "execution_count": 7,
   "metadata": {},
   "outputs": [
    {
     "name": "stdout",
     "output_type": "stream",
     "text": [
      "Cantidad de comentarios totales 22295\n",
      "Cantidad de usuarios comentando 2883\n",
      "Promedio de comentarios por usuario 7.733263961151578\n"
     ]
    }
   ],
   "source": [
    "#CANTIDAD DE COMENTARIOS POR USUARIO\n",
    "print('Cantidad de comentarios totales' , df_coments.groupby('usuario').count().texto.sum())\n",
    "print('Cantidad de usuarios comentando' , len(df_coments.usuario.unique()))\n",
    "print('Promedio de comentarios por usuario' , (df_coments.groupby('usuario').count().texto.sum())/len(df_coments.usuario.unique()))"
   ]
  },
  {
   "cell_type": "code",
   "execution_count": 8,
   "metadata": {},
   "outputs": [],
   "source": [
    "ids = {}\n",
    "for a , b , c , d in zip(df_notas.nota_id.values,df_notas.titulo.values,df_notas.seccion.values,df_notas.url.values):\n",
    "    ids[a] = (c,b,d)"
   ]
  },
  {
   "cell_type": "code",
   "execution_count": 9,
   "metadata": {},
   "outputs": [
    {
     "data": {
      "text/plain": [
       "seccion\n",
       "economia         2138\n",
       "espectaculos       23\n",
       "mundo             663\n",
       "politica        15191\n",
       "sociedad         4280\n",
       "Name: texto, dtype: int64"
      ]
     },
     "execution_count": 9,
     "metadata": {},
     "output_type": "execute_result"
    }
   ],
   "source": [
    "#COMENTARIOS POR SECCION\n",
    "df_coments.groupby('seccion').count().texto"
   ]
  },
  {
   "cell_type": "code",
   "execution_count": null,
   "metadata": {},
   "outputs": [],
   "source": []
  }
 ],
 "metadata": {
  "kernelspec": {
   "display_name": "Python 3",
   "language": "python",
   "name": "python3"
  },
  "language_info": {
   "codemirror_mode": {
    "name": "ipython",
    "version": 3
   },
   "file_extension": ".py",
   "mimetype": "text/x-python",
   "name": "python",
   "nbconvert_exporter": "python",
   "pygments_lexer": "ipython3",
   "version": "3.6.4"
  }
 },
 "nbformat": 4,
 "nbformat_minor": 2
}
