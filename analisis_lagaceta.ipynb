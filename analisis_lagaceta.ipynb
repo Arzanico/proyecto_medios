{
 "cells": [
  {
   "cell_type": "code",
   "execution_count": 26,
   "metadata": {},
   "outputs": [],
   "source": [
    "import pandas as pd\n",
    "import glosarios"
   ]
  },
  {
   "cell_type": "code",
   "execution_count": 72,
   "metadata": {},
   "outputs": [],
   "source": [
    "df_coments = pd.read_csv('comentarios_la_gaceta_full.csv', index_col = 0)\n",
    "df_notas = pd.read_csv('lagaceta_notas.csv', index_col = 0)"
   ]
  },
  {
   "cell_type": "code",
   "execution_count": 90,
   "metadata": {},
   "outputs": [
    {
     "data": {
      "text/plain": [
       "Index(['es_respuesta', 'fecha', 'likes', 'nota_id', 'nota_url', 'respuestas',\n",
       "       'texto', 'usuario', 'seccion', 'titulo', 'url'],\n",
       "      dtype='object')"
      ]
     },
     "execution_count": 90,
     "metadata": {},
     "output_type": "execute_result"
    }
   ],
   "source": [
    "df_coments.columns"
   ]
  },
  {
   "cell_type": "code",
   "execution_count": 64,
   "metadata": {},
   "outputs": [
    {
     "data": {
      "text/plain": [
       "Index(['nota_id', 'abierta_comentarios', 'autor', 'cuerpo', 'fecha', 'seccion',\n",
       "       'titulo', 'url'],\n",
       "      dtype='object')"
      ]
     },
     "execution_count": 64,
     "metadata": {},
     "output_type": "execute_result"
    }
   ],
   "source": [
    "df_notas.columns"
   ]
  },
  {
   "cell_type": "code",
   "execution_count": 100,
   "metadata": {},
   "outputs": [
    {
     "data": {
      "text/plain": [
       "seccion\n",
       "economia        180\n",
       "espectaculos     40\n",
       "mundo            77\n",
       "politica        500\n",
       "sociedad        303\n",
       "Name: cuerpo, dtype: int64"
      ]
     },
     "execution_count": 100,
     "metadata": {},
     "output_type": "execute_result"
    }
   ],
   "source": [
    "df_notas.groupby('seccion').count().cuerpo"
   ]
  },
  {
   "cell_type": "code",
   "execution_count": 97,
   "metadata": {},
   "outputs": [
    {
     "data": {
      "text/plain": [
       "usuario\n",
       "Abdel_Kanan                   1\n",
       "Abel Vega                     1\n",
       "Adela Aragón López            1\n",
       "Adela Delgadino               2\n",
       "Adelina Estela Alvarez        8\n",
       "Adolfo Agüero                39\n",
       "Adolfo Lopez                  1\n",
       "Adolfo Nicolas Herrera        4\n",
       "Adolfo Von Buren Lazcano     15\n",
       "Adolfo Zelarayan              1\n",
       "Adrian Alberto Alvarez        1\n",
       "Adrian Alberto Pereyra        2\n",
       "Adrian Ali                    3\n",
       "Adrian Campos                 1\n",
       "Adrian Carabajal             32\n",
       "Adrian Carrillo               4\n",
       "Adrian Corbalan              12\n",
       "Adrian Dario Soraire          3\n",
       "Adrian Martin Perez           2\n",
       "Adrian Perea                  1\n",
       "Adrian Rivadeneira            3\n",
       "Adrian Urtiaga                1\n",
       "Adriana Cuadrado              6\n",
       "Adriana Farias                2\n",
       "Adriana Gonzalez              1\n",
       "Adriana Marisa Olivera        2\n",
       "Adriano Bourguignon           5\n",
       "Adrián Francisco Paez         1\n",
       "Adrián Navas                  1\n",
       "Adrián Rodolfo Almirón        4\n",
       "                             ..\n",
       "Yessica Machuca               2\n",
       "Zoila Padilla                 3\n",
       "Zulema Roldan                 1\n",
       "andrea paola risso            2\n",
       "carlos carrillo               3\n",
       "carlos ferreyra               4\n",
       "fabio alejandro rodriguez     1\n",
       "fernando gustavo Juarez       5\n",
       "gustavo federico aguero       4\n",
       "hector eduardo morales       19\n",
       "hugo walter aramayo           1\n",
       "jose esteban sampieri         9\n",
       "jose maria terron miguez      4\n",
       "juan carlos Nuñez            23\n",
       "juan pacheco                  1\n",
       "juan veliz                    4\n",
       "luis solar                    3\n",
       "manuel gonzalez              28\n",
       "mauricio daniel ortiz         9\n",
       "miguel angel escobar          4\n",
       "miguel angel moreno          19\n",
       "miguel romano                 1\n",
       "norma cabrera                 2\n",
       "pablo ortiz                   3\n",
       "roberto ruiz 86               1\n",
       "rodolfo hector alcaraz 48     2\n",
       "rodolfo sergio baisi          1\n",
       "salomon abraham zacharias     1\n",
       "Ángel Moya                    4\n",
       "Ángel Ricardo Navarro         7\n",
       "Name: texto, Length: 2912, dtype: int64"
      ]
     },
     "execution_count": 97,
     "metadata": {},
     "output_type": "execute_result"
    }
   ],
   "source": [
    "#CANTIDAD DE COMENTARIOS POR USUARIO\n",
    "df_coments.groupby('usuario').count().texto"
   ]
  },
  {
   "cell_type": "code",
   "execution_count": 67,
   "metadata": {},
   "outputs": [],
   "source": [
    "ids = {}\n",
    "for a , b , c , d in zip(df_notas.nota_id.values,df_notas.titulo.values,df_notas.seccion.values,df_notas.url.values):\n",
    "    ids[a] = (c,b,d)"
   ]
  },
  {
   "cell_type": "code",
   "execution_count": 80,
   "metadata": {},
   "outputs": [],
   "source": [
    "df_coments['seccion'] = df_coments.nota_id.values\n",
    "df_coments['titulo'] = df_coments.nota_id.values\n",
    "df_coments['url'] = df_coments.nota_id.values"
   ]
  },
  {
   "cell_type": "code",
   "execution_count": 87,
   "metadata": {},
   "outputs": [],
   "source": [
    "df_coments['seccion'] =df_coments['seccion'].apply(lambda x : ids[x][0])\n",
    "df_coments['titulo'] = df_coments['titulo'].apply(lambda x : ids[x][1])\n",
    "df_coments['url'] = df_coments['url'].apply(lambda x : ids[x][2])"
   ]
  },
  {
   "cell_type": "code",
   "execution_count": 96,
   "metadata": {},
   "outputs": [
    {
     "data": {
      "text/plain": [
       "seccion\n",
       "economia         2165\n",
       "espectaculos       24\n",
       "mundo             666\n",
       "politica        15641\n",
       "sociedad         4322\n",
       "Name: texto, dtype: int64"
      ]
     },
     "execution_count": 96,
     "metadata": {},
     "output_type": "execute_result"
    }
   ],
   "source": [
    "#COMENTARIOS POR SECCION\n",
    "df_coments.groupby('seccion').count().texto"
   ]
  },
  {
   "cell_type": "code",
   "execution_count": null,
   "metadata": {},
   "outputs": [],
   "source": []
  }
 ],
 "metadata": {
  "kernelspec": {
   "display_name": "Python 3",
   "language": "python",
   "name": "python3"
  },
  "language_info": {
   "codemirror_mode": {
    "name": "ipython",
    "version": 3
   },
   "file_extension": ".py",
   "mimetype": "text/x-python",
   "name": "python",
   "nbconvert_exporter": "python",
   "pygments_lexer": "ipython3",
   "version": "3.6.4"
  }
 },
 "nbformat": 4,
 "nbformat_minor": 2
}
